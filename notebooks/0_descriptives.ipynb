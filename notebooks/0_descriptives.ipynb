{
 "cells": [
  {
   "cell_type": "code",
   "execution_count": 1,
   "id": "initial_id",
   "metadata": {
    "collapsed": true,
    "ExecuteTime": {
     "end_time": "2023-12-06T08:38:12.419976Z",
     "start_time": "2023-12-06T08:38:10.791737Z"
    }
   },
   "outputs": [],
   "source": [
    "#Imports\n",
    "import sys\n",
    "import os\n",
    "\n",
    "module_path = os.path.abspath(os.path.join('..'))\n",
    "if module_path not in sys.path:\n",
    "    sys.path.append(module_path)\n",
    "\n",
    "import pandas as pd\n",
    "import numpy as np\n",
    "\n",
    "from ast import literal_eval"
   ]
  },
  {
   "cell_type": "markdown",
   "source": [
    "## Natural Language Inference\n",
    "\n",
    "\"Is the hypothesis entailed or contradicted (or neither) by the premise?\"\n",
    "\n",
    "Original dataset - SNLI:\n",
    "* 570k sentence pairs\n",
    "* 5 annotations each\n",
    "* 0th annotator: gets image and provides description $\\rightarrow$ premise\n",
    "* 1st annotator: gets description and provides 3 alternative descriptions, one entailing, one neutral, one contradicting $\\rightarrow$ personal ground truth$\\rightarrow$ hypothesis\n",
    "* 2nd, 3rd, 4th and 5th annotators: get premise and hypothesis, provide labels $\\rightarrow$ 4 independent votes\n",
    "\n",
    "ChaosNLI dataset:\n",
    "* collect 100 independent labels for examples where majority label agrees with only three out of five individual labels collected by the original work $\\rightarrow$ high abiguity\n",
    "* 1.5k sentence pairs\n",
    "* 100 annotations each\n",
    "\n"
   ],
   "metadata": {
    "collapsed": false
   },
   "id": "4095292f6202cc53"
  },
  {
   "cell_type": "markdown",
   "source": [
    "Is the hypothesis entailed or contradicted (or neither) by the premise?\n",
    "\n",
    "| Premise | Hypothesis | Label count [E, N, C] | Entropy |\n",
    "|---|---|---|---|\n",
    "|'A man running a marathon talks to his friend.'|'There is a man running.'| [100, 0, 0] | 0 |\n",
    "|'Man standing on a tricycle riding in front of a crowd.'| 'A man is on a bike.' | [46, 5, 49] | 1.236|\n",
    "|'An elderly woman crafts a design on a loom.'| 'The woman is sewing.'| [35, 31, 34] | 1.583 |"
   ],
   "metadata": {
    "collapsed": false
   },
   "id": "11044285557bcb16"
  },
  {
   "cell_type": "code",
   "execution_count": 2,
   "outputs": [],
   "source": [
    "#load data\n",
    "df_snli = pd.read_csv('../data/final/snli-clean.csv',escapechar=\"\\\\\", index_col=0)\n",
    "df_snli.old_labels = df_snli.old_labels.apply(literal_eval)  # since quotes in list elements are escaped"
   ],
   "metadata": {
    "collapsed": false,
    "ExecuteTime": {
     "end_time": "2023-12-06T08:38:15.468324Z",
     "start_time": "2023-12-06T08:38:15.359054Z"
    }
   },
   "id": "4d72b02e7023040a"
  },
  {
   "cell_type": "code",
   "execution_count": 3,
   "outputs": [
    {
     "data": {
      "text/plain": "<Figure size 640x480 with 1 Axes>",
      "image/png": "[encoded data removed]"
     },
     "metadata": {},
     "output_type": "display_data"
    }
   ],
   "source": [
    "df_snli['entropy'].plot(kind='hist', title='entropy - SNLI', bins = 20, legend=None);"
   ],
   "metadata": {
    "collapsed": false,
    "ExecuteTime": {
     "end_time": "2023-12-06T08:38:19.659648Z",
     "start_time": "2023-12-06T08:38:16.961627Z"
    }
   },
   "id": "2dec9309f72b3fd1"
  },
  {
   "cell_type": "markdown",
   "source": [
    "* high entropy for many sentence pairs\n",
    "* equals to annotator disagreement\n",
    "* attention: this is a subsample of the original dataset $\\rightarrow$ higher entropy by construction\n",
    "* entropy = 0, all votes on one class\n",
    "* entropy = 1, votes are quite equally distributed among 2 classes\n",
    "* entropy = 1.58, maximal value, votes are equally distributed among all 3 classes"
   ],
   "metadata": {
    "collapsed": false
   },
   "id": "aa5f5fdfa1a45a71"
  },
  {
   "cell_type": "code",
   "execution_count": 4,
   "outputs": [],
   "source": [
    "snli_one_hot = df_snli[['e','n', 'c']]\n",
    "snli_one_hot_arr = np.array(snli_one_hot).astype(int)\n",
    "\n",
    "#frequency of all votes\n",
    "rel_freq = np.sum(snli_one_hot_arr,axis=0)/(100*len(snli_one_hot_arr))\n",
    "\n",
    "#frequency of personal ground truth\n",
    "gt_freq = np.unique(df_snli['ground_truth'],return_counts=True)\n",
    "#as the labels are initially sorted alphabetically, we manually fix the order: E, N, C\n",
    "rel_freq_gt = gt_freq[1][[1,2,0]]/len(df_snli)\n",
    "\n",
    "#frequency of majority vote label\n",
    "m_vote_freq = np.unique(df_snli['majority_label'], return_counts=True)\n",
    "#as the labels are initially sorted alphabetically, we manually fix the order: E, N, C\n",
    "rel_freq_m_vote = m_vote_freq[1][[1,2,0]]/len(df_snli)"
   ],
   "metadata": {
    "collapsed": false,
    "ExecuteTime": {
     "end_time": "2023-12-06T08:38:30.831234Z",
     "start_time": "2023-12-06T08:38:30.784760Z"
    }
   },
   "id": "292f90a5fb36e616"
  },
  {
   "cell_type": "code",
   "execution_count": 5,
   "outputs": [
    {
     "data": {
      "text/plain": "            freq_m_vote  freq_gt  freq_all_votes\nentail            0.278    0.313           0.298\nneutral           0.537    0.446           0.503\ncontradict        0.185    0.241           0.199",
      "text/html": "<div>\n<style scoped>\n    .dataframe tbody tr th:only-of-type {\n        vertical-align: middle;\n    }\n\n    .dataframe tbody tr th {\n        vertical-align: top;\n    }\n\n    .dataframe thead th {\n        text-align: right;\n    }\n</style>\n<table border=\"1\" class=\"dataframe\">\n  <thead>\n    <tr style=\"text-align: right;\">\n      <th></th>\n      <th>freq_m_vote</th>\n      <th>freq_gt</th>\n      <th>freq_all_votes</th>\n    </tr>\n  </thead>\n  <tbody>\n    <tr>\n      <th>entail</th>\n      <td>0.278</td>\n      <td>0.313</td>\n      <td>0.298</td>\n    </tr>\n    <tr>\n      <th>neutral</th>\n      <td>0.537</td>\n      <td>0.446</td>\n      <td>0.503</td>\n    </tr>\n    <tr>\n      <th>contradict</th>\n      <td>0.185</td>\n      <td>0.241</td>\n      <td>0.199</td>\n    </tr>\n  </tbody>\n</table>\n</div>"
     },
     "execution_count": 5,
     "metadata": {},
     "output_type": "execute_result"
    }
   ],
   "source": [
    "pd.DataFrame({\"freq_m_vote\":np.around(rel_freq_m_vote,3), \"freq_gt\":np.around(rel_freq_gt,3), \"freq_all_votes\":np.around(rel_freq,3)}, index = ['entail','neutral', 'contradict'])"
   ],
   "metadata": {
    "collapsed": false,
    "ExecuteTime": {
     "end_time": "2023-12-06T08:38:36.361993Z",
     "start_time": "2023-12-06T08:38:36.333165Z"
    }
   },
   "id": "1ae6e4e8dc12ab4d"
  },
  {
   "cell_type": "markdown",
   "source": [
    "neural is more common than entailment or contradiction. "
   ],
   "metadata": {
    "collapsed": false
   },
   "id": "b083dd4272a87fa4"
  }
 ],
 "metadata": {
  "kernelspec": {
   "display_name": "Python 3",
   "language": "python",
   "name": "python3"
  },
  "language_info": {
   "codemirror_mode": {
    "name": "ipython",
    "version": 2
   },
   "file_extension": ".py",
   "mimetype": "text/x-python",
   "name": "python",
   "nbconvert_exporter": "python",
   "pygments_lexer": "ipython2",
   "version": "2.7.6"
  }
 },
 "nbformat": 4,
 "nbformat_minor": 5
}
