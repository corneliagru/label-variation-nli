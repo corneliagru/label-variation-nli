{
 "cells": [
  {
   "cell_type": "code",
   "execution_count": 10,
   "id": "initial_id",
   "metadata": {
    "collapsed": true,
    "ExecuteTime": {
     "end_time": "2023-12-05T13:10:51.954802Z",
     "start_time": "2023-12-05T13:10:51.949653Z"
    }
   },
   "outputs": [],
   "source": [
    "#Imports\n",
    "import sys\n",
    "import os\n",
    "\n",
    "module_path = os.path.abspath(os.path.join('..'))\n",
    "if module_path not in sys.path:\n",
    "    sys.path.append(module_path)\n",
    "\n",
    "\n",
    "import pandas as pd\n",
    "import numpy as np\n",
    "\n",
    "import random\n",
    "\n",
    "from ast import literal_eval\n",
    "from src.custom_funcs import run_em, tolerance_sort, ternary_plot, CB_color_cycle, max_posterior_label, get_boundaries"
   ]
  },
  {
   "cell_type": "code",
   "execution_count": 4,
   "outputs": [],
   "source": [
    "random.seed(12)\n",
    "df_snli = pd.read_csv('../data/final/snli-clean.csv', index_col=0)\n",
    "df_snli.old_labels = df_snli.old_labels.apply(literal_eval) # since quotes in list elements are escaped"
   ],
   "metadata": {
    "collapsed": false,
    "ExecuteTime": {
     "end_time": "2023-12-05T13:09:39.666634Z",
     "start_time": "2023-12-05T13:09:39.632931Z"
    }
   },
   "id": "7b6d922a77f7c06d"
  },
  {
   "cell_type": "code",
   "execution_count": 5,
   "outputs": [],
   "source": [
    "#extract relevant columns\n",
    "snli_one_hot = df_snli[['e', 'n', 'c']]\n",
    "snli_one_hot_arr = np.array(snli_one_hot).astype(int)"
   ],
   "metadata": {
    "collapsed": false,
    "ExecuteTime": {
     "end_time": "2023-12-05T13:09:41.290407Z",
     "start_time": "2023-12-05T13:09:41.286277Z"
    }
   },
   "id": "babf879df69a4761"
  },
  {
   "cell_type": "markdown",
   "source": [
    "# 1. EM on full dataset, N=1514, J=100"
   ],
   "metadata": {
    "collapsed": false
   },
   "id": "609b106c4a1b2241"
  },
  {
   "cell_type": "code",
   "execution_count": 6,
   "outputs": [],
   "source": [
    "snli_em = run_em(snli_one_hot_arr, K=3)"
   ],
   "metadata": {
    "collapsed": false,
    "ExecuteTime": {
     "end_time": "2023-12-05T13:09:45.175029Z",
     "start_time": "2023-12-05T13:09:44.039986Z"
    }
   },
   "id": "81316b6df57d1307"
  },
  {
   "cell_type": "code",
   "execution_count": 11,
   "outputs": [],
   "source": [
    "theta,matched_index = tolerance_sort(snli_em[2], 0.05, reverse=True)\n",
    "\n",
    "pi = snli_em[1][matched_index]\n",
    "tau = snli_em[3][:, matched_index]\n",
    "bounds_original = get_boundaries(pi, theta)"
   ],
   "metadata": {
    "collapsed": false,
    "ExecuteTime": {
     "end_time": "2023-12-05T13:10:54.265845Z",
     "start_time": "2023-12-05T13:10:54.065757Z"
    }
   },
   "id": "d6cf49f157bc9481"
  },
  {
   "cell_type": "code",
   "execution_count": null,
   "outputs": [],
   "source": [],
   "metadata": {
    "collapsed": false
   },
   "id": "f23d2ff3b95d818f"
  }
 ],
 "metadata": {
  "kernelspec": {
   "display_name": "Python 3",
   "language": "python",
   "name": "python3"
  },
  "language_info": {
   "codemirror_mode": {
    "name": "ipython",
    "version": 2
   },
   "file_extension": ".py",
   "mimetype": "text/x-python",
   "name": "python",
   "nbconvert_exporter": "python",
   "pygments_lexer": "ipython2",
   "version": "2.7.6"
  }
 },
 "nbformat": 4,
 "nbformat_minor": 5
}
